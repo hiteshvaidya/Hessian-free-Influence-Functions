{
 "cells": [
  {
   "cell_type": "code",
   "execution_count": 6,
   "id": "10bf1600",
   "metadata": {},
   "outputs": [],
   "source": [
    "import torch\n",
    "import torch.nn as nn\n",
    "from torchtext.datasets import PennTreebank\n",
    "from torchtext.data.utils import get_tokenizer\n",
    "from torchtext.vocab import build_vocab_from_iterator\n",
    "from torch.utils.data import Dataset, DataLoader"
   ]
  },
  {
   "cell_type": "code",
   "execution_count": 4,
   "id": "81bc3d2e",
   "metadata": {},
   "outputs": [
    {
     "ename": "NameError",
     "evalue": "name 'get_tokenizer' is not defined",
     "output_type": "error",
     "traceback": [
      "\u001b[31m---------------------------------------------------------------------------\u001b[39m",
      "\u001b[31mNameError\u001b[39m                                 Traceback (most recent call last)",
      "\u001b[36mCell\u001b[39m\u001b[36m \u001b[39m\u001b[32mIn[4]\u001b[39m\u001b[32m, line 1\u001b[39m\n\u001b[32m----> \u001b[39m\u001b[32m1\u001b[39m tokenizer = \u001b[43mget_tokenizer\u001b[49m(\u001b[33m'\u001b[39m\u001b[33mbasic_english\u001b[39m\u001b[33m'\u001b[39m)\n\u001b[32m      2\u001b[39m \u001b[38;5;28;01mdef\u001b[39;00m\u001b[38;5;250m \u001b[39m\u001b[34myield_tokens\u001b[39m(data_iter):\n\u001b[32m      3\u001b[39m     \u001b[38;5;28;01mfor\u001b[39;00m text \u001b[38;5;129;01min\u001b[39;00m data_iter:\n",
      "\u001b[31mNameError\u001b[39m: name 'get_tokenizer' is not defined"
     ]
    }
   ],
   "source": [
    "tokenizer = get_tokenizer('basic_english')\n",
    "def yield_tokens(data_iter):\n",
    "    for text in data_iter:\n",
    "        yield tokenizer(text)\n",
    "\n",
    "vocab = build_vocab_from_iterator(yield_tokens(PennTreebank(split='train')), \n",
    "                                  specials=[\"<unk>\"])\n",
    "vocab.set_default_index(vocab[\"<unk>\"])\n",
    "tokens = [token for line in PennTreebank(split='train') for token in tokenizer(line)]\n",
    "indexed_data = [vocab[token] for token in tokens]"
   ]
  },
  {
   "cell_type": "code",
   "execution_count": null,
   "id": "96e28228",
   "metadata": {},
   "outputs": [],
   "source": [
    "def create_batches(data, seq_len=30, batch_size=32):\n",
    "    total_len = (len(data) // (batch_size * seq_len)) *  batch_size * seq_len\n",
    "    data = torch.tensor(data[:total_len], dtype=torch.long)\n",
    "    data = data.view(batch_size, -1)\n",
    "\n",
    "    X, Y = [], []\n",
    "    for i in range(0, data.size(1) - seq_len):\n",
    "        x = data[:, i:i+seq_len]\n",
    "        y = data[:, i+1:i+seq_len+1]\n",
    "        x.append(x)\n",
    "        y.append(y)\n",
    "    \n",
    "    return torch.stack(X), torch.stack(Y)"
   ]
  }
 ],
 "metadata": {
  "kernelspec": {
   "display_name": "if",
   "language": "python",
   "name": "python3"
  },
  "language_info": {
   "codemirror_mode": {
    "name": "ipython",
    "version": 3
   },
   "file_extension": ".py",
   "mimetype": "text/x-python",
   "name": "python",
   "nbconvert_exporter": "python",
   "pygments_lexer": "ipython3",
   "version": "3.13.2"
  }
 },
 "nbformat": 4,
 "nbformat_minor": 5
}
